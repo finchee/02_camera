{
 "cells": [
  {
   "cell_type": "code",
   "execution_count": null,
   "metadata": {},
   "outputs": [],
   "source": [
    "import serial\n",
    "import time\n",
    "import binascii\n",
    "import matplotlib.pyplot as plt\n",
    "import cv2\n",
    "\n",
    "# 配置串口参数\n",
    "port = 'COM13'      # 串口设备文件，Windows系统可能是'COM3', 'COM4'等\n",
    "baudrate = 115200           # 波特率\n",
    "timeout = 1                # 读取超时时间，单位秒\n",
    "\n",
    "# 打开串口\n",
    "ser = serial.Serial(port, baudrate, timeout=timeout)\n",
    "\n",
    "try:\n",
    "    while True:\n",
    "        # 读取串口数据\n",
    "        if ser.in_waiting > 0:\n",
    "            # 读取所有可用的数据\n",
    "            data = ser.readline().decode()  # 使用readline读取直到遇到换行符，然后解码\n",
    "            print(\"Received:\", data.strip())  # 打印接收到的数据，strip()去除可能的前后空白字符\n",
    "            payload = data.strip()\n",
    "            file_path=open(\"1.png\",\"rb+\") # filepath为你要存储的图片的全路径\n",
    "            pic = binascii.a2b_hex(payload.encode())\n",
    "            file_path.write(pic)\n",
    "            file_path.close()\n",
    "            \n",
    "            img1 = cv2.imread('./1.png')\n",
    "            plt.imshow(img1)\n",
    "            plt.show()\n",
    "\n",
    "        else:\n",
    "            # 没有数据时稍作延时，避免CPU占用过高\n",
    "            time.sleep(0.1)\n",
    "except KeyboardInterrupt:\n",
    "    # 手动终止程序\n",
    "    print(\"Program terminated by user.\")\n",
    "finally:\n",
    "    # 关闭串口\n",
    "    ser.close()\n",
    "    print(\"Serial port closed.\")"
   ]
  }
 ],
 "metadata": {
  "kernelspec": {
   "display_name": "Python 3",
   "language": "python",
   "name": "python3"
  },
  "language_info": {
   "codemirror_mode": {
    "name": "ipython",
    "version": 3
   },
   "file_extension": ".py",
   "mimetype": "text/x-python",
   "name": "python",
   "nbconvert_exporter": "python",
   "pygments_lexer": "ipython3",
   "version": "3.12.2"
  },
  "orig_nbformat": 4
 },
 "nbformat": 4,
 "nbformat_minor": 2
}
